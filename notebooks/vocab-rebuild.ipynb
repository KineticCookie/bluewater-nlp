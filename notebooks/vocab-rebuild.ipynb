{
 "cells": [
  {
   "cell_type": "code",
   "execution_count": 3,
   "metadata": {},
   "outputs": [],
   "source": [
    "from r2_bot import vocab_utils\n",
    "import os"
   ]
  },
  {
   "cell_type": "code",
   "execution_count": 4,
   "metadata": {},
   "outputs": [],
   "source": [
    "pretrained_vocab_fp = 'pretrained/araneum_upos_skipgram_300_2_2018.txt'\n",
    "pretrained_emb_fp = 'pretrained/araneum_upos_skipgram_300_2_2018.npy'\n",
    "output_dir = 'pretrained'"
   ]
  },
  {
   "cell_type": "code",
   "execution_count": 7,
   "metadata": {},
   "outputs": [
    {
     "name": "stdout",
     "output_type": "stream",
     "text": [
      "Initial vectors array shape (196620, 300), dtype float32\n",
      "Added 196620 tokens, skipped 0\n"
     ]
    }
   ],
   "source": [
    "vocab_builder = vocab_utils.VocabBuilder(pretrained_vocab_fp, pretrained_emb_fp, excludes=['', '<unk>', '<pad>'])\n",
    "vocab_builder.prepend('<pad>')\n",
    "# TODO infer vocab extension from the training datasets\n",
    "#for t in vocab_ext:\n",
    "#    vocab_builder.append(t)\n",
    "vocab_builder.append('<unk>')\n",
    "vocab_builder.write(os.path.join(output_dir, 'rebuild'))"
   ]
  },
  {
   "cell_type": "code",
   "execution_count": null,
   "metadata": {},
   "outputs": [],
   "source": []
  }
 ],
 "metadata": {
  "kernelspec": {
   "display_name": "conda_tensorflow_p36",
   "language": "python",
   "name": "conda_tensorflow_p36"
  },
  "language_info": {
   "codemirror_mode": {
    "name": "ipython",
    "version": 3
   },
   "file_extension": ".py",
   "mimetype": "text/x-python",
   "name": "python",
   "nbconvert_exporter": "python",
   "pygments_lexer": "ipython3",
   "version": "3.6.5"
  }
 },
 "nbformat": 4,
 "nbformat_minor": 2
}
