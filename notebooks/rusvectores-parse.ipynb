{
 "cells": [
  {
   "cell_type": "code",
   "execution_count": 2,
   "metadata": {},
   "outputs": [
    {
     "name": "stdout",
     "output_type": "stream",
     "text": [
      "Collecting tqdm\n",
      "\u001b[?25l  Downloading https://files.pythonhosted.org/packages/91/55/8cb23a97301b177e9c8e3226dba45bb454411de2cbd25746763267f226c2/tqdm-4.28.1-py2.py3-none-any.whl (45kB)\n",
      "\u001b[K    100% |████████████████████████████████| 51kB 3.2MB/s ta 0:00:011\n",
      "\u001b[?25hInstalling collected packages: tqdm\n",
      "Successfully installed tqdm-4.28.1\n",
      "\u001b[33mYou are using pip version 10.0.1, however version 18.1 is available.\n",
      "You should consider upgrading via the 'pip install --upgrade pip' command.\u001b[0m\n"
     ]
    }
   ],
   "source": [
    "!pip install tqdm"
   ]
  },
  {
   "cell_type": "code",
   "execution_count": 33,
   "metadata": {},
   "outputs": [],
   "source": [
    "import gzip\n",
    "import os\n",
    "from tqdm import tqdm_notebook as tqdm\n",
    "import random\n",
    "import numpy as np"
   ]
  },
  {
   "cell_type": "code",
   "execution_count": 37,
   "metadata": {},
   "outputs": [],
   "source": [
    "pretrained_path = 'pretrained/araneum_upos_skipgram_300_2_2018.vec.gz'\n",
    "output_vocab_path = 'pretrained/araneum_upos_skipgram_300_2_2018.txt'\n",
    "output_vec_path = 'pretrained/araneum_upos_skipgram_300_2_2018.npy'"
   ]
  },
  {
   "cell_type": "code",
   "execution_count": 12,
   "metadata": {},
   "outputs": [
    {
     "name": "stdout",
     "output_type": "stream",
     "text": [
      "There are 196620 words in the vocab, dim = 300\n"
     ]
    },
    {
     "data": {
      "application/vnd.jupyter.widget-view+json": {
       "model_id": "4e013c875d904d0d9bee23b76ec69d72",
       "version_major": 2,
       "version_minor": 0
      },
      "text/plain": [
       "HBox(children=(IntProgress(value=1, bar_style='info', max=1), HTML(value='')))"
      ]
     },
     "metadata": {},
     "output_type": "display_data"
    },
    {
     "name": "stdout",
     "output_type": "stream",
     "text": [
      "\n"
     ]
    }
   ],
   "source": [
    "vocab = set()\n",
    "with gzip.open(pretrained_path, mode='rt', encoding='utf-8') as inp:\n",
    "    meta_vocab_size, meta_dim = inp.readline().split()\n",
    "    print(\"There are %s words in the vocab, dim = %s\" % (meta_vocab_size, meta_dim))\n",
    "    for l in tqdm(inp):\n",
    "        first_space_i = l.find(' ')\n",
    "        vocab.add(l[:first_space_i])"
   ]
  },
  {
   "cell_type": "code",
   "execution_count": 32,
   "metadata": {},
   "outputs": [
    {
     "data": {
      "text/plain": [
       "True"
      ]
     },
     "execution_count": 32,
     "metadata": {},
     "output_type": "execute_result"
    }
   ],
   "source": [
    "'играть_VERB' in vocab"
   ]
  },
  {
   "cell_type": "code",
   "execution_count": 39,
   "metadata": {},
   "outputs": [
    {
     "name": "stdout",
     "output_type": "stream",
     "text": [
      "There are 196620 words in the vocab, dim = 300\n"
     ]
    },
    {
     "data": {
      "application/vnd.jupyter.widget-view+json": {
       "model_id": "1da70a06666b42919bf2407b8898c7c9",
       "version_major": 2,
       "version_minor": 0
      },
      "text/plain": [
       "HBox(children=(IntProgress(value=1, bar_style='info', max=1), HTML(value='')))"
      ]
     },
     "metadata": {},
     "output_type": "display_data"
    },
    {
     "name": "stdout",
     "output_type": "stream",
     "text": [
      "(196620, 300)\n"
     ]
    }
   ],
   "source": [
    "vec_list = []\n",
    "vocab_list = []\n",
    "with gzip.open('pretrained/araneum_upos_skipgram_300_2_2018.vec.gz', mode='rt', encoding='utf-8') as inp:\n",
    "    meta_vocab_size, meta_dim = inp.readline().split()\n",
    "    meta_dim = int(meta_dim)\n",
    "    print(\"There are %s words in the vocab, dim = %s\" % (meta_vocab_size, meta_dim))\n",
    "    for l in tqdm(inp):\n",
    "        first_space_i = l.find(' ')\n",
    "        word = l[:first_space_i]\n",
    "        vec = np.array([float(f_str) for f_str in l[first_space_i+1:].split(' ')], dtype=np.float32)\n",
    "        if vec.shape[0] != meta_dim:\n",
    "            raise ValueError()\n",
    "        vec_list.append(vec)\n",
    "        vocab_list.append(word)\n",
    "vec_arr = np.stack(vec_list)\n",
    "print(vec_arr.shape)\n",
    "with open(output_vocab_path, mode='w') as out:\n",
    "    for w in vocab_list:\n",
    "        out.write(w)\n",
    "        out.write('\\n')\n",
    "with open(output_vec_path, mode='wb') as out:\n",
    "    np.save(out, vec_arr)"
   ]
  },
  {
   "cell_type": "code",
   "execution_count": null,
   "metadata": {},
   "outputs": [],
   "source": []
  }
 ],
 "metadata": {
  "kernelspec": {
   "display_name": "conda_tensorflow_p36",
   "language": "python",
   "name": "conda_tensorflow_p36"
  },
  "language_info": {
   "codemirror_mode": {
    "name": "ipython",
    "version": 3
   },
   "file_extension": ".py",
   "mimetype": "text/x-python",
   "name": "python",
   "nbconvert_exporter": "python",
   "pygments_lexer": "ipython3",
   "version": "3.6.5"
  }
 },
 "nbformat": 4,
 "nbformat_minor": 2
}
