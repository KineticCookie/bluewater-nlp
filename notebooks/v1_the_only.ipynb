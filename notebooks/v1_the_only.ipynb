{
 "cells": [
  {
   "cell_type": "code",
   "execution_count": 1,
   "metadata": {},
   "outputs": [],
   "source": [
    "import tensorflow as tf\n",
    "import numpy as np\n",
    "import os\n",
    "import importlib"
   ]
  },
  {
   "cell_type": "code",
   "execution_count": 2,
   "metadata": {},
   "outputs": [],
   "source": [
    "from r2_bot import api, common_utils, model as mod_model, serving_io, train_io, training_utils"
   ]
  },
  {
   "cell_type": "code",
   "execution_count": 3,
   "metadata": {},
   "outputs": [],
   "source": [
    "ds_dir = 'wrk'\n",
    "train_fn = 'restroom-dataset.v2.train.tfrecords'\n",
    "valid_fn = 'restroom-dataset.v2.valid.tfrecords'"
   ]
  },
  {
   "cell_type": "code",
   "execution_count": 4,
   "metadata": {},
   "outputs": [],
   "source": [
    "model_dir = 'wrk/rnn-v2'\n",
    "export_dir_base = os.path.join(model_dir, 'export')"
   ]
  },
  {
   "cell_type": "code",
   "execution_count": 21,
   "metadata": {},
   "outputs": [],
   "source": [
    "!rm -rf wrk/rnn-v2"
   ]
  },
  {
   "cell_type": "code",
   "execution_count": 6,
   "metadata": {},
   "outputs": [
    {
     "data": {
      "text/plain": [
       "['araneum_upos_skipgram_300_2_2018.txt',\n",
       " 'araneum_upos_skipgram_300_2_2018.npy',\n",
       " 'rebuild.vectors.npy',\n",
       " 'araneum_upos_skipgram_300_2_2018.vec.gz',\n",
       " 'rebuild.vocab.txt']"
      ]
     },
     "execution_count": 6,
     "metadata": {},
     "output_type": "execute_result"
    }
   ],
   "source": [
    "os.listdir('pretrained')"
   ]
  },
  {
   "cell_type": "code",
   "execution_count": 7,
   "metadata": {},
   "outputs": [],
   "source": [
    "vocab_fp = 'pretrained/rebuild.vocab.txt'\n",
    "emb_fp = 'pretrained/rebuild.vectors.npy'"
   ]
  },
  {
   "cell_type": "code",
   "execution_count": 8,
   "metadata": {},
   "outputs": [
    {
     "data": {
      "text/plain": [
       "196622"
      ]
     },
     "execution_count": 8,
     "metadata": {},
     "output_type": "execute_result"
    }
   ],
   "source": [
    "common_utils.get_lines(vocab_fp)"
   ]
  },
  {
   "cell_type": "code",
   "execution_count": 9,
   "metadata": {},
   "outputs": [],
   "source": [
    "emb_pretrained_arr = np.load(emb_fp)"
   ]
  },
  {
   "cell_type": "code",
   "execution_count": 10,
   "metadata": {
    "scrolled": true
   },
   "outputs": [
    {
     "data": {
      "text/plain": [
       "(196622, 300)"
      ]
     },
     "execution_count": 10,
     "metadata": {},
     "output_type": "execute_result"
    }
   ],
   "source": [
    "emb_pretrained_arr.shape"
   ]
  },
  {
   "cell_type": "code",
   "execution_count": 11,
   "metadata": {},
   "outputs": [],
   "source": [
    "MODEL_PARAM_DEFAULTS = {\n",
    "    'pretrained.dtype' : tf.float32,\n",
    "    'pretrained.dim' : emb_pretrained_arr.shape[1],\n",
    "    'encoder.hidden_size' : 512,\n",
    "    'l2_lambda': 0,\n",
    "    'batch_size': 32\n",
    "}"
   ]
  },
  {
   "cell_type": "code",
   "execution_count": 12,
   "metadata": {},
   "outputs": [],
   "source": [
    "del emb_pretrained_arr"
   ]
  },
  {
   "cell_type": "code",
   "execution_count": 13,
   "metadata": {},
   "outputs": [],
   "source": [
    "model_params = dict(vocab_filepath=vocab_fp, \n",
    "                    pretrained_path=emb_fp,\n",
    "                    **MODEL_PARAM_DEFAULTS)"
   ]
  },
  {
   "cell_type": "code",
   "execution_count": 14,
   "metadata": {},
   "outputs": [
    {
     "data": {
      "text/plain": [
       "90"
      ]
     },
     "execution_count": 14,
     "metadata": {},
     "output_type": "execute_result"
    }
   ],
   "source": [
    "train_ds_size = train_io.get_ds_size(ds_dir, train_fn)\n",
    "train_ds_size"
   ]
  },
  {
   "cell_type": "code",
   "execution_count": 15,
   "metadata": {},
   "outputs": [
    {
     "data": {
      "text/plain": [
       "3"
      ]
     },
     "execution_count": 15,
     "metadata": {},
     "output_type": "execute_result"
    }
   ],
   "source": [
    "steps_in_train_epoch = int(np.ceil(train_ds_size / model_params['batch_size']))\n",
    "steps_in_train_epoch"
   ]
  },
  {
   "cell_type": "code",
   "execution_count": 16,
   "metadata": {},
   "outputs": [],
   "source": [
    "estimator_config = tf.estimator.RunConfig(save_checkpoints_steps=steps_in_train_epoch)"
   ]
  },
  {
   "cell_type": "code",
   "execution_count": 22,
   "metadata": {},
   "outputs": [
    {
     "data": {
      "text/plain": [
       "<module 'r2_bot.model' from '/home/ec2-user/SageMaker/r2_bot/model.py'>"
      ]
     },
     "execution_count": 22,
     "metadata": {},
     "output_type": "execute_result"
    }
   ],
   "source": [
    "importlib.reload(mod_model)"
   ]
  },
  {
   "cell_type": "code",
   "execution_count": 23,
   "metadata": {
    "scrolled": true
   },
   "outputs": [
    {
     "name": "stdout",
     "output_type": "stream",
     "text": [
      "INFO:tensorflow:Using config: {'_model_dir': 'wrk/rnn-v2', '_tf_random_seed': None, '_save_summary_steps': 100, '_save_checkpoints_steps': 3, '_save_checkpoints_secs': None, '_session_config': None, '_keep_checkpoint_max': 5, '_keep_checkpoint_every_n_hours': 10000, '_log_step_count_steps': 100, '_train_distribute': None, '_device_fn': None, '_service': None, '_cluster_spec': <tensorflow.python.training.server_lib.ClusterSpec object at 0x7f2bf20b6320>, '_task_type': 'worker', '_task_id': 0, '_global_id_in_cluster': 0, '_master': '', '_evaluation_master': '', '_is_chief': True, '_num_ps_replicas': 0, '_num_worker_replicas': 1}\n"
     ]
    }
   ],
   "source": [
    "estimator = tf.estimator.Estimator(mod_model.model_fn, model_dir=model_dir, params=model_params, config=estimator_config)"
   ]
  },
  {
   "cell_type": "markdown",
   "metadata": {},
   "source": [
    "# Train"
   ]
  },
  {
   "cell_type": "code",
   "execution_count": 86,
   "metadata": {},
   "outputs": [],
   "source": [
    "# TODO handle <pad> correctly in vocab"
   ]
  },
  {
   "cell_type": "code",
   "execution_count": 18,
   "metadata": {},
   "outputs": [],
   "source": [
    "def train_input_fn(repeat):\n",
    "    return train_io.input_fn(ds_dir, train_fn, model_params, repeat=repeat, shuffle_size=train_ds_size)\n",
    "\n",
    "def eval_input_fn():\n",
    "    return train_io.input_fn(ds_dir, valid_fn, model_params)"
   ]
  },
  {
   "cell_type": "code",
   "execution_count": 19,
   "metadata": {},
   "outputs": [],
   "source": [
    "def train_and_evaluate_old_way(epoch_num):\n",
    "    es_handler = training_utils.EarlyStoppingHandler(model_dir, 'accuracy', \n",
    "                                                     no_increase_checks=3,\n",
    "                                                     no_increase_threshold=0.01)\n",
    "    for e in range(epoch_num):\n",
    "        if not es_handler.should_continue():\n",
    "            break\n",
    "        estimator.train(input_fn=lambda: train_input_fn(None))\n",
    "        eval_results = estimator.evaluate(input_fn=eval_input_fn)\n",
    "        print('\\nEvaluation results:\\n\\t%s\\n' % eval_results)\n",
    "        es_handler.add_eval_dict(eval_results)\n",
    "    best_step = es_handler.get_best_step()\n",
    "    print(\"Exporting checkpoint for the best step\", best_step)\n",
    "    best_ckp_path = os.path.join(model_dir, 'model.ckpt-%s' % best_step.step)\n",
    "    return estimator.export_savedmodel(export_dir_base, serving_io.serving_fn,\n",
    "                               checkpoint_path=best_ckp_path)\n",
    "    "
   ]
  },
  {
   "cell_type": "code",
   "execution_count": 24,
   "metadata": {},
   "outputs": [
    {
     "name": "stdout",
     "output_type": "stream",
     "text": [
      "INFO:tensorflow:Read 0 previous accuracy values: []\n",
      "INFO:tensorflow:Calling model_fn.\n",
      "INFO:tensorflow:Summary name word_embeddings:0 is illegal; using word_embeddings_0 instead.\n",
      "INFO:tensorflow:Summary name encoder_rnn/basic_lstm_cell/kernel:0 is illegal; using encoder_rnn/basic_lstm_cell/kernel_0 instead.\n",
      "INFO:tensorflow:Summary name encoder_rnn/basic_lstm_cell/bias:0 is illegal; using encoder_rnn/basic_lstm_cell/bias_0 instead.\n",
      "INFO:tensorflow:Summary name label_logits/weight_matrix:0 is illegal; using label_logits/weight_matrix_0 instead.\n",
      "INFO:tensorflow:Summary name label_logits/bias:0 is illegal; using label_logits/bias_0 instead.\n",
      "INFO:tensorflow:Done calling model_fn.\n",
      "INFO:tensorflow:Create CheckpointSaverHook.\n",
      "INFO:tensorflow:Graph was finalized.\n",
      "INFO:tensorflow:Loaded pretrained embeddings weights (196622, 300) float32 from pretrained/rebuild.vectors.npy\n",
      "INFO:tensorflow:Running local_init_op.\n",
      "INFO:tensorflow:Done running local_init_op.\n",
      "INFO:tensorflow:Saving checkpoints for 0 into wrk/rnn-v2/model.ckpt.\n",
      "INFO:tensorflow:loss = 1.7882394, step = 1\n",
      "INFO:tensorflow:Saving checkpoints for 3 into wrk/rnn-v2/model.ckpt.\n",
      "INFO:tensorflow:Loss for final step: 1.6200955.\n",
      "INFO:tensorflow:Calling model_fn.\n",
      "INFO:tensorflow:Done calling model_fn.\n",
      "INFO:tensorflow:Starting evaluation at 2019-01-07-21:21:43\n",
      "INFO:tensorflow:Graph was finalized.\n",
      "INFO:tensorflow:Restoring parameters from wrk/rnn-v2/model.ckpt-3\n",
      "INFO:tensorflow:Running local_init_op.\n",
      "INFO:tensorflow:Done running local_init_op.\n",
      "INFO:tensorflow:Finished evaluation at 2019-01-07-21:21:44\n",
      "INFO:tensorflow:Saving dict for global step 3: accuracy = 0.62068963, global_step = 3, loss = 1.4695692\n",
      "INFO:tensorflow:Saving 'checkpoint_path' summary for global step 3: wrk/rnn-v2/model.ckpt-3\n",
      "\n",
      "Evaluation results:\n",
      "\t{'accuracy': 0.62068963, 'loss': 1.4695692, 'global_step': 3}\n",
      "\n",
      "INFO:tensorflow:Early stopping: last values for accuracy: [StepValue(step=3, value=0.6206896305084229)]\n",
      "INFO:tensorflow:Calling model_fn.\n",
      "INFO:tensorflow:Summary name word_embeddings:0 is illegal; using word_embeddings_0 instead.\n",
      "INFO:tensorflow:Summary name encoder_rnn/basic_lstm_cell/kernel:0 is illegal; using encoder_rnn/basic_lstm_cell/kernel_0 instead.\n",
      "INFO:tensorflow:Summary name encoder_rnn/basic_lstm_cell/bias:0 is illegal; using encoder_rnn/basic_lstm_cell/bias_0 instead.\n",
      "INFO:tensorflow:Summary name label_logits/weight_matrix:0 is illegal; using label_logits/weight_matrix_0 instead.\n",
      "INFO:tensorflow:Summary name label_logits/bias:0 is illegal; using label_logits/bias_0 instead.\n",
      "INFO:tensorflow:Done calling model_fn.\n",
      "INFO:tensorflow:Create CheckpointSaverHook.\n",
      "INFO:tensorflow:Graph was finalized.\n",
      "INFO:tensorflow:Restoring parameters from wrk/rnn-v2/model.ckpt-3\n",
      "INFO:tensorflow:Running local_init_op.\n",
      "INFO:tensorflow:Done running local_init_op.\n",
      "INFO:tensorflow:Saving checkpoints for 3 into wrk/rnn-v2/model.ckpt.\n",
      "INFO:tensorflow:loss = 1.501113, step = 4\n",
      "INFO:tensorflow:Saving checkpoints for 6 into wrk/rnn-v2/model.ckpt.\n",
      "INFO:tensorflow:Loss for final step: 1.3859334.\n",
      "INFO:tensorflow:Calling model_fn.\n",
      "INFO:tensorflow:Done calling model_fn.\n",
      "INFO:tensorflow:Starting evaluation at 2019-01-07-21:22:06\n",
      "INFO:tensorflow:Graph was finalized.\n",
      "INFO:tensorflow:Restoring parameters from wrk/rnn-v2/model.ckpt-6\n",
      "INFO:tensorflow:Running local_init_op.\n",
      "INFO:tensorflow:Done running local_init_op.\n",
      "INFO:tensorflow:Finished evaluation at 2019-01-07-21:22:06\n",
      "INFO:tensorflow:Saving dict for global step 6: accuracy = 0.62068963, global_step = 6, loss = 1.2353048\n",
      "INFO:tensorflow:Saving 'checkpoint_path' summary for global step 6: wrk/rnn-v2/model.ckpt-6\n",
      "\n",
      "Evaluation results:\n",
      "\t{'accuracy': 0.62068963, 'loss': 1.2353048, 'global_step': 6}\n",
      "\n",
      "INFO:tensorflow:Early stopping: last values for accuracy: [StepValue(step=3, value=0.6206896305084229), StepValue(step=6, value=0.6206896305084229)]\n",
      "INFO:tensorflow:Calling model_fn.\n",
      "INFO:tensorflow:Summary name word_embeddings:0 is illegal; using word_embeddings_0 instead.\n",
      "INFO:tensorflow:Summary name encoder_rnn/basic_lstm_cell/kernel:0 is illegal; using encoder_rnn/basic_lstm_cell/kernel_0 instead.\n",
      "INFO:tensorflow:Summary name encoder_rnn/basic_lstm_cell/bias:0 is illegal; using encoder_rnn/basic_lstm_cell/bias_0 instead.\n",
      "INFO:tensorflow:Summary name label_logits/weight_matrix:0 is illegal; using label_logits/weight_matrix_0 instead.\n",
      "INFO:tensorflow:Summary name label_logits/bias:0 is illegal; using label_logits/bias_0 instead.\n",
      "INFO:tensorflow:Done calling model_fn.\n",
      "INFO:tensorflow:Create CheckpointSaverHook.\n",
      "INFO:tensorflow:Graph was finalized.\n",
      "INFO:tensorflow:Restoring parameters from wrk/rnn-v2/model.ckpt-6\n",
      "INFO:tensorflow:Running local_init_op.\n",
      "INFO:tensorflow:Done running local_init_op.\n",
      "INFO:tensorflow:Saving checkpoints for 6 into wrk/rnn-v2/model.ckpt.\n",
      "INFO:tensorflow:loss = 1.2955658, step = 7\n",
      "INFO:tensorflow:Saving checkpoints for 9 into wrk/rnn-v2/model.ckpt.\n",
      "INFO:tensorflow:Loss for final step: 1.2776163.\n",
      "INFO:tensorflow:Calling model_fn.\n",
      "INFO:tensorflow:Done calling model_fn.\n",
      "INFO:tensorflow:Starting evaluation at 2019-01-07-21:22:25\n",
      "INFO:tensorflow:Graph was finalized.\n",
      "INFO:tensorflow:Restoring parameters from wrk/rnn-v2/model.ckpt-9\n",
      "INFO:tensorflow:Running local_init_op.\n",
      "INFO:tensorflow:Done running local_init_op.\n",
      "INFO:tensorflow:Finished evaluation at 2019-01-07-21:22:26\n",
      "INFO:tensorflow:Saving dict for global step 9: accuracy = 0.6551724, global_step = 9, loss = 1.0966568\n",
      "INFO:tensorflow:Saving 'checkpoint_path' summary for global step 9: wrk/rnn-v2/model.ckpt-9\n",
      "\n",
      "Evaluation results:\n",
      "\t{'accuracy': 0.6551724, 'loss': 1.0966568, 'global_step': 9}\n",
      "\n",
      "INFO:tensorflow:Early stopping: last values for accuracy: [StepValue(step=3, value=0.6206896305084229), StepValue(step=6, value=0.6206896305084229), StepValue(step=9, value=0.6551724076271057)]\n",
      "INFO:tensorflow:Calling model_fn.\n",
      "INFO:tensorflow:Summary name word_embeddings:0 is illegal; using word_embeddings_0 instead.\n",
      "INFO:tensorflow:Summary name encoder_rnn/basic_lstm_cell/kernel:0 is illegal; using encoder_rnn/basic_lstm_cell/kernel_0 instead.\n",
      "INFO:tensorflow:Summary name encoder_rnn/basic_lstm_cell/bias:0 is illegal; using encoder_rnn/basic_lstm_cell/bias_0 instead.\n",
      "INFO:tensorflow:Summary name label_logits/weight_matrix:0 is illegal; using label_logits/weight_matrix_0 instead.\n",
      "INFO:tensorflow:Summary name label_logits/bias:0 is illegal; using label_logits/bias_0 instead.\n",
      "INFO:tensorflow:Done calling model_fn.\n",
      "INFO:tensorflow:Create CheckpointSaverHook.\n",
      "INFO:tensorflow:Graph was finalized.\n",
      "INFO:tensorflow:Restoring parameters from wrk/rnn-v2/model.ckpt-9\n",
      "INFO:tensorflow:Running local_init_op.\n",
      "INFO:tensorflow:Done running local_init_op.\n",
      "INFO:tensorflow:Saving checkpoints for 9 into wrk/rnn-v2/model.ckpt.\n",
      "INFO:tensorflow:loss = 1.1674994, step = 10\n",
      "INFO:tensorflow:Saving checkpoints for 12 into wrk/rnn-v2/model.ckpt.\n",
      "INFO:tensorflow:Loss for final step: 1.1716889.\n",
      "INFO:tensorflow:Calling model_fn.\n",
      "INFO:tensorflow:Done calling model_fn.\n",
      "INFO:tensorflow:Starting evaluation at 2019-01-07-21:22:44\n",
      "INFO:tensorflow:Graph was finalized.\n",
      "INFO:tensorflow:Restoring parameters from wrk/rnn-v2/model.ckpt-12\n",
      "INFO:tensorflow:Running local_init_op.\n",
      "INFO:tensorflow:Done running local_init_op.\n",
      "INFO:tensorflow:Finished evaluation at 2019-01-07-21:22:45\n",
      "INFO:tensorflow:Saving dict for global step 12: accuracy = 0.5862069, global_step = 12, loss = 1.0934013\n",
      "INFO:tensorflow:Saving 'checkpoint_path' summary for global step 12: wrk/rnn-v2/model.ckpt-12\n",
      "\n",
      "Evaluation results:\n",
      "\t{'accuracy': 0.5862069, 'loss': 1.0934013, 'global_step': 12}\n",
      "\n",
      "INFO:tensorflow:Early stopping: last values for accuracy: [StepValue(step=3, value=0.6206896305084229), StepValue(step=6, value=0.6206896305084229), StepValue(step=9, value=0.6551724076271057), StepValue(step=12, value=0.5862069129943848)]\n",
      "INFO:tensorflow:Calling model_fn.\n",
      "INFO:tensorflow:Summary name word_embeddings:0 is illegal; using word_embeddings_0 instead.\n",
      "INFO:tensorflow:Summary name encoder_rnn/basic_lstm_cell/kernel:0 is illegal; using encoder_rnn/basic_lstm_cell/kernel_0 instead.\n",
      "INFO:tensorflow:Summary name encoder_rnn/basic_lstm_cell/bias:0 is illegal; using encoder_rnn/basic_lstm_cell/bias_0 instead.\n",
      "INFO:tensorflow:Summary name label_logits/weight_matrix:0 is illegal; using label_logits/weight_matrix_0 instead.\n",
      "INFO:tensorflow:Summary name label_logits/bias:0 is illegal; using label_logits/bias_0 instead.\n",
      "INFO:tensorflow:Done calling model_fn.\n",
      "INFO:tensorflow:Create CheckpointSaverHook.\n",
      "INFO:tensorflow:Graph was finalized.\n",
      "INFO:tensorflow:Restoring parameters from wrk/rnn-v2/model.ckpt-12\n",
      "INFO:tensorflow:Running local_init_op.\n",
      "INFO:tensorflow:Done running local_init_op.\n",
      "INFO:tensorflow:Saving checkpoints for 12 into wrk/rnn-v2/model.ckpt.\n",
      "INFO:tensorflow:loss = 1.0724329, step = 13\n",
      "INFO:tensorflow:Saving checkpoints for 15 into wrk/rnn-v2/model.ckpt.\n",
      "INFO:tensorflow:Loss for final step: 1.0588845.\n",
      "INFO:tensorflow:Calling model_fn.\n",
      "INFO:tensorflow:Done calling model_fn.\n",
      "INFO:tensorflow:Starting evaluation at 2019-01-07-21:23:04\n",
      "INFO:tensorflow:Graph was finalized.\n",
      "INFO:tensorflow:Restoring parameters from wrk/rnn-v2/model.ckpt-15\n",
      "INFO:tensorflow:Running local_init_op.\n",
      "INFO:tensorflow:Done running local_init_op.\n",
      "INFO:tensorflow:Finished evaluation at 2019-01-07-21:23:04\n",
      "INFO:tensorflow:Saving dict for global step 15: accuracy = 0.6551724, global_step = 15, loss = 0.9226043\n",
      "INFO:tensorflow:Saving 'checkpoint_path' summary for global step 15: wrk/rnn-v2/model.ckpt-15\n",
      "\n",
      "Evaluation results:\n",
      "\t{'accuracy': 0.6551724, 'loss': 0.9226043, 'global_step': 15}\n",
      "\n",
      "INFO:tensorflow:Early stopping: last values for accuracy: [StepValue(step=6, value=0.6206896305084229), StepValue(step=9, value=0.6551724076271057), StepValue(step=12, value=0.5862069129943848), StepValue(step=15, value=0.6551724076271057)]\n",
      "INFO:tensorflow:Calling model_fn.\n",
      "INFO:tensorflow:Summary name word_embeddings:0 is illegal; using word_embeddings_0 instead.\n",
      "INFO:tensorflow:Summary name encoder_rnn/basic_lstm_cell/kernel:0 is illegal; using encoder_rnn/basic_lstm_cell/kernel_0 instead.\n",
      "INFO:tensorflow:Summary name encoder_rnn/basic_lstm_cell/bias:0 is illegal; using encoder_rnn/basic_lstm_cell/bias_0 instead.\n",
      "INFO:tensorflow:Summary name label_logits/weight_matrix:0 is illegal; using label_logits/weight_matrix_0 instead.\n",
      "INFO:tensorflow:Summary name label_logits/bias:0 is illegal; using label_logits/bias_0 instead.\n",
      "INFO:tensorflow:Done calling model_fn.\n",
      "INFO:tensorflow:Create CheckpointSaverHook.\n",
      "INFO:tensorflow:Graph was finalized.\n",
      "INFO:tensorflow:Restoring parameters from wrk/rnn-v2/model.ckpt-15\n",
      "INFO:tensorflow:Running local_init_op.\n",
      "INFO:tensorflow:Done running local_init_op.\n",
      "INFO:tensorflow:Saving checkpoints for 15 into wrk/rnn-v2/model.ckpt.\n",
      "INFO:tensorflow:loss = 0.9570863, step = 16\n",
      "INFO:tensorflow:Saving checkpoints for 18 into wrk/rnn-v2/model.ckpt.\n",
      "INFO:tensorflow:Loss for final step: 0.9440044.\n",
      "INFO:tensorflow:Calling model_fn.\n",
      "INFO:tensorflow:Done calling model_fn.\n",
      "INFO:tensorflow:Starting evaluation at 2019-01-07-21:23:23\n",
      "INFO:tensorflow:Graph was finalized.\n",
      "INFO:tensorflow:Restoring parameters from wrk/rnn-v2/model.ckpt-18\n",
      "INFO:tensorflow:Running local_init_op.\n",
      "INFO:tensorflow:Done running local_init_op.\n",
      "INFO:tensorflow:Finished evaluation at 2019-01-07-21:23:24\n",
      "INFO:tensorflow:Saving dict for global step 18: accuracy = 0.6551724, global_step = 18, loss = 0.862258\n",
      "INFO:tensorflow:Saving 'checkpoint_path' summary for global step 18: wrk/rnn-v2/model.ckpt-18\n",
      "\n",
      "Evaluation results:\n",
      "\t{'accuracy': 0.6551724, 'loss': 0.862258, 'global_step': 18}\n",
      "\n",
      "INFO:tensorflow:Early stopping: last values for accuracy: [StepValue(step=9, value=0.6551724076271057), StepValue(step=12, value=0.5862069129943848), StepValue(step=15, value=0.6551724076271057), StepValue(step=18, value=0.6551724076271057)]\n",
      "INFO:tensorflow:Calling model_fn.\n",
      "INFO:tensorflow:Summary name word_embeddings:0 is illegal; using word_embeddings_0 instead.\n",
      "INFO:tensorflow:Summary name encoder_rnn/basic_lstm_cell/kernel:0 is illegal; using encoder_rnn/basic_lstm_cell/kernel_0 instead.\n",
      "INFO:tensorflow:Summary name encoder_rnn/basic_lstm_cell/bias:0 is illegal; using encoder_rnn/basic_lstm_cell/bias_0 instead.\n",
      "INFO:tensorflow:Summary name label_logits/weight_matrix:0 is illegal; using label_logits/weight_matrix_0 instead.\n",
      "INFO:tensorflow:Summary name label_logits/bias:0 is illegal; using label_logits/bias_0 instead.\n",
      "INFO:tensorflow:Done calling model_fn.\n",
      "INFO:tensorflow:Create CheckpointSaverHook.\n",
      "INFO:tensorflow:Graph was finalized.\n",
      "INFO:tensorflow:Restoring parameters from wrk/rnn-v2/model.ckpt-18\n",
      "INFO:tensorflow:Running local_init_op.\n",
      "INFO:tensorflow:Done running local_init_op.\n",
      "INFO:tensorflow:Saving checkpoints for 18 into wrk/rnn-v2/model.ckpt.\n",
      "INFO:tensorflow:loss = 0.86364174, step = 19\n",
      "INFO:tensorflow:Saving checkpoints for 21 into wrk/rnn-v2/model.ckpt.\n",
      "INFO:tensorflow:Loss for final step: 0.8209589.\n",
      "INFO:tensorflow:Calling model_fn.\n",
      "INFO:tensorflow:Done calling model_fn.\n",
      "INFO:tensorflow:Starting evaluation at 2019-01-07-21:23:43\n",
      "INFO:tensorflow:Graph was finalized.\n",
      "INFO:tensorflow:Restoring parameters from wrk/rnn-v2/model.ckpt-21\n",
      "INFO:tensorflow:Running local_init_op.\n",
      "INFO:tensorflow:Done running local_init_op.\n",
      "INFO:tensorflow:Finished evaluation at 2019-01-07-21:23:43\n",
      "INFO:tensorflow:Saving dict for global step 21: accuracy = 0.6896552, global_step = 21, loss = 0.91166514\n",
      "INFO:tensorflow:Saving 'checkpoint_path' summary for global step 21: wrk/rnn-v2/model.ckpt-21\n",
      "\n",
      "Evaluation results:\n",
      "\t{'accuracy': 0.6896552, 'loss': 0.91166514, 'global_step': 21}\n",
      "\n",
      "INFO:tensorflow:Early stopping: last values for accuracy: [StepValue(step=12, value=0.5862069129943848), StepValue(step=15, value=0.6551724076271057), StepValue(step=18, value=0.6551724076271057), StepValue(step=21, value=0.6896551847457886)]\n",
      "INFO:tensorflow:Calling model_fn.\n",
      "INFO:tensorflow:Summary name word_embeddings:0 is illegal; using word_embeddings_0 instead.\n",
      "INFO:tensorflow:Summary name encoder_rnn/basic_lstm_cell/kernel:0 is illegal; using encoder_rnn/basic_lstm_cell/kernel_0 instead.\n",
      "INFO:tensorflow:Summary name encoder_rnn/basic_lstm_cell/bias:0 is illegal; using encoder_rnn/basic_lstm_cell/bias_0 instead.\n",
      "INFO:tensorflow:Summary name label_logits/weight_matrix:0 is illegal; using label_logits/weight_matrix_0 instead.\n",
      "INFO:tensorflow:Summary name label_logits/bias:0 is illegal; using label_logits/bias_0 instead.\n",
      "INFO:tensorflow:Done calling model_fn.\n",
      "INFO:tensorflow:Create CheckpointSaverHook.\n",
      "INFO:tensorflow:Graph was finalized.\n",
      "INFO:tensorflow:Restoring parameters from wrk/rnn-v2/model.ckpt-21\n",
      "INFO:tensorflow:Running local_init_op.\n",
      "INFO:tensorflow:Done running local_init_op.\n",
      "INFO:tensorflow:Saving checkpoints for 21 into wrk/rnn-v2/model.ckpt.\n",
      "INFO:tensorflow:loss = 0.788802, step = 22\n",
      "INFO:tensorflow:Saving checkpoints for 24 into wrk/rnn-v2/model.ckpt.\n",
      "INFO:tensorflow:Loss for final step: 0.7236256.\n",
      "INFO:tensorflow:Calling model_fn.\n",
      "INFO:tensorflow:Done calling model_fn.\n",
      "INFO:tensorflow:Starting evaluation at 2019-01-07-21:24:02\n",
      "INFO:tensorflow:Graph was finalized.\n",
      "INFO:tensorflow:Restoring parameters from wrk/rnn-v2/model.ckpt-24\n",
      "INFO:tensorflow:Running local_init_op.\n",
      "INFO:tensorflow:Done running local_init_op.\n",
      "INFO:tensorflow:Finished evaluation at 2019-01-07-21:24:03\n",
      "INFO:tensorflow:Saving dict for global step 24: accuracy = 0.7241379, global_step = 24, loss = 0.8666584\n",
      "INFO:tensorflow:Saving 'checkpoint_path' summary for global step 24: wrk/rnn-v2/model.ckpt-24\n",
      "\n",
      "Evaluation results:\n",
      "\t{'accuracy': 0.7241379, 'loss': 0.8666584, 'global_step': 24}\n",
      "\n",
      "INFO:tensorflow:Early stopping: last values for accuracy: [StepValue(step=15, value=0.6551724076271057), StepValue(step=18, value=0.6551724076271057), StepValue(step=21, value=0.6896551847457886), StepValue(step=24, value=0.7241379022598267)]\n",
      "INFO:tensorflow:Calling model_fn.\n",
      "INFO:tensorflow:Summary name word_embeddings:0 is illegal; using word_embeddings_0 instead.\n",
      "INFO:tensorflow:Summary name encoder_rnn/basic_lstm_cell/kernel:0 is illegal; using encoder_rnn/basic_lstm_cell/kernel_0 instead.\n",
      "INFO:tensorflow:Summary name encoder_rnn/basic_lstm_cell/bias:0 is illegal; using encoder_rnn/basic_lstm_cell/bias_0 instead.\n",
      "INFO:tensorflow:Summary name label_logits/weight_matrix:0 is illegal; using label_logits/weight_matrix_0 instead.\n",
      "INFO:tensorflow:Summary name label_logits/bias:0 is illegal; using label_logits/bias_0 instead.\n",
      "INFO:tensorflow:Done calling model_fn.\n",
      "INFO:tensorflow:Create CheckpointSaverHook.\n",
      "INFO:tensorflow:Graph was finalized.\n",
      "INFO:tensorflow:Restoring parameters from wrk/rnn-v2/model.ckpt-24\n",
      "INFO:tensorflow:Running local_init_op.\n",
      "INFO:tensorflow:Done running local_init_op.\n",
      "INFO:tensorflow:Saving checkpoints for 24 into wrk/rnn-v2/model.ckpt.\n",
      "INFO:tensorflow:loss = 0.70180047, step = 25\n",
      "INFO:tensorflow:Saving checkpoints for 27 into wrk/rnn-v2/model.ckpt.\n",
      "INFO:tensorflow:Loss for final step: 0.617414.\n",
      "INFO:tensorflow:Calling model_fn.\n",
      "INFO:tensorflow:Done calling model_fn.\n",
      "INFO:tensorflow:Starting evaluation at 2019-01-07-21:24:17\n",
      "INFO:tensorflow:Graph was finalized.\n",
      "INFO:tensorflow:Restoring parameters from wrk/rnn-v2/model.ckpt-27\n",
      "INFO:tensorflow:Running local_init_op.\n",
      "INFO:tensorflow:Done running local_init_op.\n",
      "INFO:tensorflow:Finished evaluation at 2019-01-07-21:24:18\n",
      "INFO:tensorflow:Saving dict for global step 27: accuracy = 0.7241379, global_step = 27, loss = 0.79557353\n",
      "INFO:tensorflow:Saving 'checkpoint_path' summary for global step 27: wrk/rnn-v2/model.ckpt-27\n",
      "\n",
      "Evaluation results:\n",
      "\t{'accuracy': 0.7241379, 'loss': 0.79557353, 'global_step': 27}\n",
      "\n",
      "INFO:tensorflow:Early stopping: last values for accuracy: [StepValue(step=18, value=0.6551724076271057), StepValue(step=21, value=0.6896551847457886), StepValue(step=24, value=0.7241379022598267), StepValue(step=27, value=0.7241379022598267)]\n",
      "INFO:tensorflow:Calling model_fn.\n",
      "INFO:tensorflow:Summary name word_embeddings:0 is illegal; using word_embeddings_0 instead.\n",
      "INFO:tensorflow:Summary name encoder_rnn/basic_lstm_cell/kernel:0 is illegal; using encoder_rnn/basic_lstm_cell/kernel_0 instead.\n",
      "INFO:tensorflow:Summary name encoder_rnn/basic_lstm_cell/bias:0 is illegal; using encoder_rnn/basic_lstm_cell/bias_0 instead.\n",
      "INFO:tensorflow:Summary name label_logits/weight_matrix:0 is illegal; using label_logits/weight_matrix_0 instead.\n",
      "INFO:tensorflow:Summary name label_logits/bias:0 is illegal; using label_logits/bias_0 instead.\n",
      "INFO:tensorflow:Done calling model_fn.\n",
      "INFO:tensorflow:Create CheckpointSaverHook.\n",
      "INFO:tensorflow:Graph was finalized.\n",
      "INFO:tensorflow:Restoring parameters from wrk/rnn-v2/model.ckpt-27\n",
      "INFO:tensorflow:Running local_init_op.\n",
      "INFO:tensorflow:Done running local_init_op.\n",
      "INFO:tensorflow:Saving checkpoints for 27 into wrk/rnn-v2/model.ckpt.\n",
      "INFO:tensorflow:loss = 0.60610425, step = 28\n",
      "INFO:tensorflow:Saving checkpoints for 30 into wrk/rnn-v2/model.ckpt.\n",
      "INFO:tensorflow:Loss for final step: 0.5271262.\n",
      "INFO:tensorflow:Calling model_fn.\n",
      "INFO:tensorflow:Done calling model_fn.\n",
      "INFO:tensorflow:Starting evaluation at 2019-01-07-21:24:37\n",
      "INFO:tensorflow:Graph was finalized.\n",
      "INFO:tensorflow:Restoring parameters from wrk/rnn-v2/model.ckpt-30\n",
      "INFO:tensorflow:Running local_init_op.\n",
      "INFO:tensorflow:Done running local_init_op.\n",
      "INFO:tensorflow:Finished evaluation at 2019-01-07-21:24:37\n",
      "INFO:tensorflow:Saving dict for global step 30: accuracy = 0.7586207, global_step = 30, loss = 0.77461946\n",
      "INFO:tensorflow:Saving 'checkpoint_path' summary for global step 30: wrk/rnn-v2/model.ckpt-30\n",
      "\n",
      "Evaluation results:\n",
      "\t{'accuracy': 0.7586207, 'loss': 0.77461946, 'global_step': 30}\n",
      "\n",
      "INFO:tensorflow:Early stopping: last values for accuracy: [StepValue(step=21, value=0.6896551847457886), StepValue(step=24, value=0.7241379022598267), StepValue(step=27, value=0.7241379022598267), StepValue(step=30, value=0.7586206793785095)]\n",
      "INFO:tensorflow:Calling model_fn.\n",
      "INFO:tensorflow:Summary name word_embeddings:0 is illegal; using word_embeddings_0 instead.\n",
      "INFO:tensorflow:Summary name encoder_rnn/basic_lstm_cell/kernel:0 is illegal; using encoder_rnn/basic_lstm_cell/kernel_0 instead.\n",
      "INFO:tensorflow:Summary name encoder_rnn/basic_lstm_cell/bias:0 is illegal; using encoder_rnn/basic_lstm_cell/bias_0 instead.\n",
      "INFO:tensorflow:Summary name label_logits/weight_matrix:0 is illegal; using label_logits/weight_matrix_0 instead.\n",
      "INFO:tensorflow:Summary name label_logits/bias:0 is illegal; using label_logits/bias_0 instead.\n",
      "INFO:tensorflow:Done calling model_fn.\n",
      "INFO:tensorflow:Create CheckpointSaverHook.\n",
      "INFO:tensorflow:Graph was finalized.\n",
      "INFO:tensorflow:Restoring parameters from wrk/rnn-v2/model.ckpt-30\n",
      "INFO:tensorflow:Running local_init_op.\n",
      "INFO:tensorflow:Done running local_init_op.\n",
      "INFO:tensorflow:Saving checkpoints for 30 into wrk/rnn-v2/model.ckpt.\n",
      "INFO:tensorflow:loss = 0.5338882, step = 31\n",
      "INFO:tensorflow:Saving checkpoints for 33 into wrk/rnn-v2/model.ckpt.\n",
      "INFO:tensorflow:Loss for final step: 0.4552793.\n",
      "INFO:tensorflow:Calling model_fn.\n",
      "INFO:tensorflow:Done calling model_fn.\n",
      "INFO:tensorflow:Starting evaluation at 2019-01-07-21:24:56\n",
      "INFO:tensorflow:Graph was finalized.\n",
      "INFO:tensorflow:Restoring parameters from wrk/rnn-v2/model.ckpt-33\n",
      "INFO:tensorflow:Running local_init_op.\n",
      "INFO:tensorflow:Done running local_init_op.\n",
      "INFO:tensorflow:Finished evaluation at 2019-01-07-21:24:57\n",
      "INFO:tensorflow:Saving dict for global step 33: accuracy = 0.79310346, global_step = 33, loss = 0.7557138\n",
      "INFO:tensorflow:Saving 'checkpoint_path' summary for global step 33: wrk/rnn-v2/model.ckpt-33\n",
      "\n",
      "Evaluation results:\n",
      "\t{'accuracy': 0.79310346, 'loss': 0.7557138, 'global_step': 33}\n",
      "\n",
      "INFO:tensorflow:Early stopping: last values for accuracy: [StepValue(step=24, value=0.7241379022598267), StepValue(step=27, value=0.7241379022598267), StepValue(step=30, value=0.7586206793785095), StepValue(step=33, value=0.7931034564971924)]\n",
      "INFO:tensorflow:Calling model_fn.\n",
      "INFO:tensorflow:Summary name word_embeddings:0 is illegal; using word_embeddings_0 instead.\n",
      "INFO:tensorflow:Summary name encoder_rnn/basic_lstm_cell/kernel:0 is illegal; using encoder_rnn/basic_lstm_cell/kernel_0 instead.\n",
      "INFO:tensorflow:Summary name encoder_rnn/basic_lstm_cell/bias:0 is illegal; using encoder_rnn/basic_lstm_cell/bias_0 instead.\n",
      "INFO:tensorflow:Summary name label_logits/weight_matrix:0 is illegal; using label_logits/weight_matrix_0 instead.\n",
      "INFO:tensorflow:Summary name label_logits/bias:0 is illegal; using label_logits/bias_0 instead.\n",
      "INFO:tensorflow:Done calling model_fn.\n",
      "INFO:tensorflow:Create CheckpointSaverHook.\n",
      "INFO:tensorflow:Graph was finalized.\n",
      "INFO:tensorflow:Restoring parameters from wrk/rnn-v2/model.ckpt-33\n",
      "INFO:tensorflow:Running local_init_op.\n",
      "INFO:tensorflow:Done running local_init_op.\n",
      "INFO:tensorflow:Saving checkpoints for 33 into wrk/rnn-v2/model.ckpt.\n",
      "INFO:tensorflow:loss = 0.46988326, step = 34\n",
      "INFO:tensorflow:Saving checkpoints for 36 into wrk/rnn-v2/model.ckpt.\n",
      "INFO:tensorflow:Loss for final step: 0.38069564.\n",
      "INFO:tensorflow:Calling model_fn.\n",
      "INFO:tensorflow:Done calling model_fn.\n",
      "INFO:tensorflow:Starting evaluation at 2019-01-07-21:25:16\n",
      "INFO:tensorflow:Graph was finalized.\n",
      "INFO:tensorflow:Restoring parameters from wrk/rnn-v2/model.ckpt-36\n",
      "INFO:tensorflow:Running local_init_op.\n",
      "INFO:tensorflow:Done running local_init_op.\n",
      "INFO:tensorflow:Finished evaluation at 2019-01-07-21:25:16\n",
      "INFO:tensorflow:Saving dict for global step 36: accuracy = 0.7586207, global_step = 36, loss = 0.7208065\n",
      "INFO:tensorflow:Saving 'checkpoint_path' summary for global step 36: wrk/rnn-v2/model.ckpt-36\n",
      "\n",
      "Evaluation results:\n",
      "\t{'accuracy': 0.7586207, 'loss': 0.7208065, 'global_step': 36}\n",
      "\n",
      "INFO:tensorflow:Early stopping: last values for accuracy: [StepValue(step=27, value=0.7241379022598267), StepValue(step=30, value=0.7586206793785095), StepValue(step=33, value=0.7931034564971924), StepValue(step=36, value=0.7586206793785095)]\n",
      "INFO:tensorflow:Calling model_fn.\n",
      "INFO:tensorflow:Summary name word_embeddings:0 is illegal; using word_embeddings_0 instead.\n",
      "INFO:tensorflow:Summary name encoder_rnn/basic_lstm_cell/kernel:0 is illegal; using encoder_rnn/basic_lstm_cell/kernel_0 instead.\n",
      "INFO:tensorflow:Summary name encoder_rnn/basic_lstm_cell/bias:0 is illegal; using encoder_rnn/basic_lstm_cell/bias_0 instead.\n",
      "INFO:tensorflow:Summary name label_logits/weight_matrix:0 is illegal; using label_logits/weight_matrix_0 instead.\n",
      "INFO:tensorflow:Summary name label_logits/bias:0 is illegal; using label_logits/bias_0 instead.\n",
      "INFO:tensorflow:Done calling model_fn.\n",
      "INFO:tensorflow:Create CheckpointSaverHook.\n",
      "INFO:tensorflow:Graph was finalized.\n",
      "INFO:tensorflow:Restoring parameters from wrk/rnn-v2/model.ckpt-36\n",
      "INFO:tensorflow:Running local_init_op.\n",
      "INFO:tensorflow:Done running local_init_op.\n",
      "INFO:tensorflow:Saving checkpoints for 36 into wrk/rnn-v2/model.ckpt.\n",
      "INFO:tensorflow:loss = 0.39888877, step = 37\n",
      "INFO:tensorflow:Saving checkpoints for 39 into wrk/rnn-v2/model.ckpt.\n",
      "INFO:tensorflow:Loss for final step: 0.3156253.\n",
      "INFO:tensorflow:Calling model_fn.\n",
      "INFO:tensorflow:Done calling model_fn.\n",
      "INFO:tensorflow:Starting evaluation at 2019-01-07-21:25:35\n",
      "INFO:tensorflow:Graph was finalized.\n",
      "INFO:tensorflow:Restoring parameters from wrk/rnn-v2/model.ckpt-39\n",
      "INFO:tensorflow:Running local_init_op.\n",
      "INFO:tensorflow:Done running local_init_op.\n",
      "INFO:tensorflow:Finished evaluation at 2019-01-07-21:25:36\n",
      "INFO:tensorflow:Saving dict for global step 39: accuracy = 0.7586207, global_step = 39, loss = 0.7486304\n",
      "INFO:tensorflow:Saving 'checkpoint_path' summary for global step 39: wrk/rnn-v2/model.ckpt-39\n",
      "\n",
      "Evaluation results:\n",
      "\t{'accuracy': 0.7586207, 'loss': 0.7486304, 'global_step': 39}\n",
      "\n",
      "INFO:tensorflow:Early stopping: last values for accuracy: [StepValue(step=30, value=0.7586206793785095), StepValue(step=33, value=0.7931034564971924), StepValue(step=36, value=0.7586206793785095), StepValue(step=39, value=0.7586206793785095)]\n",
      "INFO:tensorflow:Calling model_fn.\n",
      "INFO:tensorflow:Summary name word_embeddings:0 is illegal; using word_embeddings_0 instead.\n",
      "INFO:tensorflow:Summary name encoder_rnn/basic_lstm_cell/kernel:0 is illegal; using encoder_rnn/basic_lstm_cell/kernel_0 instead.\n",
      "INFO:tensorflow:Summary name encoder_rnn/basic_lstm_cell/bias:0 is illegal; using encoder_rnn/basic_lstm_cell/bias_0 instead.\n",
      "INFO:tensorflow:Summary name label_logits/weight_matrix:0 is illegal; using label_logits/weight_matrix_0 instead.\n",
      "INFO:tensorflow:Summary name label_logits/bias:0 is illegal; using label_logits/bias_0 instead.\n",
      "INFO:tensorflow:Done calling model_fn.\n",
      "INFO:tensorflow:Create CheckpointSaverHook.\n",
      "INFO:tensorflow:Graph was finalized.\n",
      "INFO:tensorflow:Restoring parameters from wrk/rnn-v2/model.ckpt-39\n",
      "INFO:tensorflow:Running local_init_op.\n",
      "INFO:tensorflow:Done running local_init_op.\n",
      "INFO:tensorflow:Saving checkpoints for 39 into wrk/rnn-v2/model.ckpt.\n",
      "INFO:tensorflow:loss = 0.35532463, step = 40\n",
      "INFO:tensorflow:Saving checkpoints for 42 into wrk/rnn-v2/model.ckpt.\n",
      "INFO:tensorflow:Loss for final step: 0.26001838.\n",
      "INFO:tensorflow:Calling model_fn.\n",
      "INFO:tensorflow:Done calling model_fn.\n",
      "INFO:tensorflow:Starting evaluation at 2019-01-07-21:25:55\n",
      "INFO:tensorflow:Graph was finalized.\n",
      "INFO:tensorflow:Restoring parameters from wrk/rnn-v2/model.ckpt-42\n",
      "INFO:tensorflow:Running local_init_op.\n",
      "INFO:tensorflow:Done running local_init_op.\n",
      "INFO:tensorflow:Finished evaluation at 2019-01-07-21:25:55\n",
      "INFO:tensorflow:Saving dict for global step 42: accuracy = 0.6896552, global_step = 42, loss = 0.77402025\n",
      "INFO:tensorflow:Saving 'checkpoint_path' summary for global step 42: wrk/rnn-v2/model.ckpt-42\n",
      "\n",
      "Evaluation results:\n",
      "\t{'accuracy': 0.6896552, 'loss': 0.77402025, 'global_step': 42}\n",
      "\n",
      "INFO:tensorflow:Early stopping: last values for accuracy: [StepValue(step=33, value=0.7931034564971924), StepValue(step=36, value=0.7586206793785095), StepValue(step=39, value=0.7586206793785095), StepValue(step=42, value=0.6896551847457886)]\n",
      "Exporting checkpoint for the best step StepValue(step=33, value=0.7931034564971924)\n",
      "INFO:tensorflow:Calling model_fn.\n",
      "INFO:tensorflow:Done calling model_fn.\n",
      "INFO:tensorflow:Signatures INCLUDED in export for Classify: None\n",
      "INFO:tensorflow:Signatures INCLUDED in export for Regress: None\n",
      "INFO:tensorflow:Signatures INCLUDED in export for Predict: ['serving_default']\n",
      "INFO:tensorflow:Signatures INCLUDED in export for Train: None\n",
      "INFO:tensorflow:Signatures INCLUDED in export for Eval: None\n",
      "INFO:tensorflow:Restoring parameters from wrk/rnn-v2/model.ckpt-33\n",
      "INFO:tensorflow:Assets added to graph.\n",
      "INFO:tensorflow:Assets written to: wrk/rnn-v2/export/temp-b'1546896355'/assets\n",
      "INFO:tensorflow:SavedModel written to: wrk/rnn-v2/export/temp-b'1546896355'/saved_model.pb\n"
     ]
    },
    {
     "data": {
      "text/plain": [
       "b'wrk/rnn-v2/export/1546896355'"
      ]
     },
     "execution_count": 24,
     "metadata": {},
     "output_type": "execute_result"
    }
   ],
   "source": [
    "train_and_evaluate_old_way(20)"
   ]
  },
  {
   "cell_type": "markdown",
   "metadata": {},
   "source": [
    "## Run Old Way"
   ]
  },
  {
   "cell_type": "markdown",
   "metadata": {},
   "source": [
    "## Run New Way"
   ]
  },
  {
   "cell_type": "code",
   "execution_count": 129,
   "metadata": {},
   "outputs": [],
   "source": [
    "early_stopping_hook = tf.contrib.estimator.stop_if_no_increase_hook(estimator, 'accuracy', 3,\n",
    "                                                         min_steps=steps_in_train_epoch * 3,\n",
    "                                                         run_every_secs=None,\n",
    "                                                        run_every_steps=steps_in_train_epoch)"
   ]
  },
  {
   "cell_type": "code",
   "execution_count": 132,
   "metadata": {},
   "outputs": [],
   "source": [
    "train_spec = tf.estimator.TrainSpec(\n",
    "    lambda: train_input_fn(-1), \n",
    "    hooks=[\n",
    "        early_stopping_hook\n",
    "    ])"
   ]
  },
  {
   "cell_type": "code",
   "execution_count": 133,
   "metadata": {},
   "outputs": [],
   "source": [
    "def _compare_fn(best_eval_result, current_eval_result):\n",
    "    metric='accuracy'\n",
    "    return best_eval_result[metric] > current_eval_result[metric]\n",
    "\n",
    "best_exporter = tf.estimator.BestExporter(serving_input_receiver_fn=serving_fn, \n",
    "                                          compare_fn=_compare_fn,\n",
    "                                          exports_to_keep=3)\n",
    "eval_spec = tf.estimator.EvalSpec(eval_input_fn, steps=None, start_delay_secs=2, throttle_secs=2,\n",
    "                                  exporters=best_exporter)"
   ]
  },
  {
   "cell_type": "code",
   "execution_count": null,
   "metadata": {},
   "outputs": [],
   "source": [
    "tf.estimator.train_and_evaluate(estimator, train_spec, eval_spec)"
   ]
  },
  {
   "cell_type": "markdown",
   "metadata": {},
   "source": [
    "# LEGACY"
   ]
  },
  {
   "cell_type": "code",
   "execution_count": 17,
   "metadata": {},
   "outputs": [
    {
     "name": "stdout",
     "output_type": "stream",
     "text": [
      "INFO:tensorflow:Calling model_fn.\n",
      "INFO:tensorflow:Done calling model_fn.\n",
      "INFO:tensorflow:Graph was finalized.\n",
      "INFO:tensorflow:Restoring parameters from wrk/baseline-v0/model.ckpt-1\n",
      "INFO:tensorflow:Running local_init_op.\n",
      "INFO:tensorflow:Done running local_init_op.\n"
     ]
    },
    {
     "data": {
      "text/plain": [
       "[{'intent_i': 2,\n",
       "  'confidence': 0.5903566,\n",
       "  'input_length': 3,\n",
       "  'intent': b'GoToHell'}]"
      ]
     },
     "execution_count": 17,
     "metadata": {},
     "output_type": "execute_result"
    }
   ],
   "source": [
    "[p for p in estimator.predict(tf.estimator.inputs.numpy_input_fn({\n",
    "    'tokens' : np.array([['Я', 'хочц', 'поссикать', 'gfdgf']]),\n",
    "    'token_lengths' : np.array([3])\n",
    "}, shuffle=False))]"
   ]
  },
  {
   "cell_type": "code",
   "execution_count": 15,
   "metadata": {},
   "outputs": [],
   "source": [
    "#train_ds = input_fn(ds_dir, train_fn, 4, {})\n",
    "#train_iter = train_ds.make_one_shot_iterator()\n",
    "#train_record, train_label = train_iter.get_next()\n",
    "#train_estim_spec = model_fn(train_record, train_label, \n",
    "#                            mode=tf.estimator.ModeKeys.TRAIN,\n",
    "#                            params=dict(vocab_filepath=vocab_fp, **MODEL_PARAM_DEFAULTS))"
   ]
  },
  {
   "cell_type": "code",
   "execution_count": 16,
   "metadata": {},
   "outputs": [],
   "source": [
    "#with tf.Session() as sess:\n",
    "#    sess.run(tf.tables_initializer())\n",
    "#    sess.run(tf.global_variables_initializer())\n",
    "#    print(sess.run(sess.graph.get_tensor_by_name('word_indices:0')))\n",
    "#    print(sess.run(\n",
    "#        [sess.graph.get_tensor_by_name('true_intent_i:0'), \n",
    "#         train_estim_spec.loss]\n",
    "#    ))\n",
    "#    print(sess.run(\n",
    "#        [sess.graph.get_tensor_by_name('true_intent_i:0'), \n",
    "#         train_estim_spec.loss]\n",
    "#    ))"
   ]
  }
 ],
 "metadata": {
  "kernelspec": {
   "display_name": "conda_tensorflow_p36",
   "language": "python",
   "name": "conda_tensorflow_p36"
  },
  "language_info": {
   "codemirror_mode": {
    "name": "ipython",
    "version": 3
   },
   "file_extension": ".py",
   "mimetype": "text/x-python",
   "name": "python",
   "nbconvert_exporter": "python",
   "pygments_lexer": "ipython3",
   "version": "3.6.5"
  }
 },
 "nbformat": 4,
 "nbformat_minor": 2
}
