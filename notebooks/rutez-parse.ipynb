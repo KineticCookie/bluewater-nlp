{
 "cells": [
  {
   "cell_type": "code",
   "execution_count": 1,
   "metadata": {},
   "outputs": [],
   "source": [
    "from xml.sax import parse\n",
    "from xml.sax.handler import ContentHandler\n",
    "from collections import namedtuple\n",
    "import os\n",
    "import psutil"
   ]
  },
  {
   "cell_type": "code",
   "execution_count": 73,
   "metadata": {},
   "outputs": [
    {
     "data": {
      "text/plain": [
       "281.578125"
      ]
     },
     "execution_count": 73,
     "metadata": {},
     "output_type": "execute_result"
    }
   ],
   "source": [
    "psutil.Process(os.getpid()).memory_info().rss / 1024 / 1024"
   ]
  },
  {
   "cell_type": "code",
   "execution_count": 3,
   "metadata": {},
   "outputs": [
    {
     "data": {
      "text/plain": [
       "'/home/ec2-user/SageMaker/AmazonSageMaker-bluewater-nlp'"
      ]
     },
     "execution_count": 3,
     "metadata": {},
     "output_type": "execute_result"
    }
   ],
   "source": [
    "os.chdir('..')\n",
    "os.getcwd()"
   ]
  },
  {
   "cell_type": "code",
   "execution_count": 56,
   "metadata": {},
   "outputs": [],
   "source": [
    "input_dir = '../data/rutez-lite'\n",
    "include_domains = {'GL', 'SOC-POL', 'GEO'}"
   ]
  },
  {
   "cell_type": "code",
   "execution_count": 5,
   "metadata": {},
   "outputs": [
    {
     "data": {
      "text/plain": [
       "['relations.xml', 'concepts.xml', 'text_entry.xml', 'synonyms.xml']"
      ]
     },
     "execution_count": 5,
     "metadata": {},
     "output_type": "execute_result"
    }
   ],
   "source": [
    "os.listdir(input_dir)"
   ]
  },
  {
   "cell_type": "code",
   "execution_count": 6,
   "metadata": {},
   "outputs": [],
   "source": [
    "REL_ENUM = ['АСЦ', 'АСЦ1', 'АСЦ2', 'ВЫШЕ', 'НИЖЕ', 'ЦЕЛОЕ', 'ЧАСТЬ']\n",
    "\n",
    "class Concept:\n",
    "    def __init__(self, id):\n",
    "        self.id = id\n",
    "        self.name = ''\n",
    "        self.gloss = ''\n",
    "        self.domain = ''\n",
    "        self.relations = {\n",
    "            r : set()\n",
    "            for r in REL_ENUM\n",
    "        }\n",
    "        self.texts = set()\n",
    "        \n",
    "class TextEntry:\n",
    "    def __init__(self, id):\n",
    "        self.id = id\n",
    "        self.name = ''\n",
    "        self.lemma = ''\n",
    "        self.main_word = ''\n",
    "        self.synt_type = ''\n",
    "        self.pos_string = ''\n",
    "        self.concepts = set()"
   ]
  },
  {
   "cell_type": "code",
   "execution_count": 7,
   "metadata": {},
   "outputs": [],
   "source": [
    "class ConceptsHandler(ContentHandler):\n",
    "    def __init__(self):\n",
    "        pass\n",
    "    \n",
    "    def startDocument(self):\n",
    "        self.concepts = []\n",
    "        self._char_handler = None\n",
    "        self._current_concept = None\n",
    "    \n",
    "    def endDocument(self):\n",
    "        print(\"Parsed %s concepts\" % len(self.concepts))\n",
    "        \n",
    "    def _fill_current_concept(self, attr_name, attr_value):\n",
    "        setattr(self._current_concept,\n",
    "                attr_name,\n",
    "                getattr(self._current_concept, attr_name) + attr_value)\n",
    "        \n",
    "    def startElement(self, name, attrs):\n",
    "        if name == 'concepts':\n",
    "            pass\n",
    "        elif name == 'concept':\n",
    "            if self._current_concept:\n",
    "                raise ValueError()\n",
    "            self._current_concept = Concept(attrs['id'])\n",
    "        elif name == 'name':\n",
    "            self._char_handler = lambda c: self._fill_current_concept('name', c)\n",
    "        elif name == 'gloss':\n",
    "            self._char_handler = lambda c: self._fill_current_concept('gloss', c)\n",
    "        elif name == 'domain':\n",
    "            self._char_handler = lambda c: self._fill_current_concept('domain', c)\n",
    "        else:\n",
    "            raise ValueError(\"Unknown element %s\" % name)\n",
    "            \n",
    "    def characters(self, content):\n",
    "        if self._char_handler:\n",
    "            self._char_handler(content)\n",
    "    \n",
    "    def endElement(self, name):\n",
    "        if name == 'concepts':\n",
    "            pass\n",
    "        elif name == 'concept':\n",
    "            if not self._current_concept:\n",
    "                raise ValueError()\n",
    "            self.concepts.append(self._post_process(self._current_concept))\n",
    "            self._current_concept = None\n",
    "        elif name == 'name':\n",
    "            self._char_handler = None\n",
    "        elif name == 'gloss':\n",
    "            self._char_handler = None\n",
    "        elif name == 'domain':\n",
    "            self._char_handler = None\n",
    "        else:\n",
    "            raise ValueError(\"Unknown element %s\" % name)\n",
    "    \n",
    "    def _post_process(self, concept):\n",
    "        concept.id = int(concept.id)\n",
    "        return concept"
   ]
  },
  {
   "cell_type": "code",
   "execution_count": 12,
   "metadata": {},
   "outputs": [],
   "source": [
    "class RelationsHandler(ContentHandler):\n",
    "    def __init__(self, concept_idx):\n",
    "        self.concept_idx = concept_idx\n",
    "    \n",
    "    def startDocument(self):\n",
    "        self._counter = 0\n",
    "        self._missed_concepts = set()\n",
    "    \n",
    "    def endDocument(self):\n",
    "        print(\"Parsed %s relations\" % self._counter)\n",
    "        print(\"Missed %s concepts\" % len(self._missed_concepts))\n",
    "        \n",
    "    def startElement(self, name, attrs):\n",
    "        if name == 'relations':\n",
    "            pass\n",
    "        elif name == 'rel':\n",
    "            from_id = int(attrs['from'])\n",
    "            concept = self.concept_idx.get(from_id)\n",
    "            if not concept:\n",
    "                self._missed_concepts.add(from_id)\n",
    "                return\n",
    "            to_id = int(attrs['to'])\n",
    "            if to_id not in concept_idx:\n",
    "                self._missed_concepts.add(to_id)\n",
    "                return\n",
    "            rel_name = attrs['name']\n",
    "            concept.relations[rel_name].add(to_id)\n",
    "            self._counter += 1\n",
    "        else:\n",
    "            raise ValueError(\"Unknown element %s\" % name)"
   ]
  },
  {
   "cell_type": "code",
   "execution_count": 9,
   "metadata": {},
   "outputs": [],
   "source": [
    "class TextEntriesHandler(ContentHandler):\n",
    "    def __init__(self):\n",
    "        pass\n",
    "    \n",
    "    def startDocument(self):\n",
    "        self.text_entries = []\n",
    "        self._char_handler = None\n",
    "        self._current_entry = None\n",
    "    \n",
    "    def endDocument(self):\n",
    "        print(\"Parsed %s text entries\" % len(self.text_entries))\n",
    "        \n",
    "    def _fill_current(self, attr_name, attr_value):\n",
    "        setattr(self._current_entry,\n",
    "                attr_name,\n",
    "                getattr(self._current_entry, attr_name) + attr_value)\n",
    "        \n",
    "    def startElement(self, name, attrs):\n",
    "        if name == 'entries':\n",
    "            pass\n",
    "        elif name == 'entry':\n",
    "            if self._current_entry:\n",
    "                raise ValueError()\n",
    "            self._current_entry = TextEntry(int(attrs['id']))\n",
    "        elif name == 'name':\n",
    "            self._char_handler = lambda c: self._fill_current('name', c)\n",
    "        elif name == 'lemma':\n",
    "            self._char_handler = lambda c: self._fill_current('lemma', c)\n",
    "        elif name == 'main_word':\n",
    "            self._char_handler = lambda c: self._fill_current('main_word', c)\n",
    "        elif name == 'synt_type':\n",
    "            self._char_handler = lambda c: self._fill_current('synt_type', c)\n",
    "        elif name == 'pos_string':\n",
    "            self._char_handler = lambda c: self._fill_current('pos_string', c)\n",
    "        else:\n",
    "            raise ValueError(\"Unknown element %s\" % name)\n",
    "            \n",
    "    def characters(self, content):\n",
    "        if self._char_handler:\n",
    "            self._char_handler(content)\n",
    "    \n",
    "    def endElement(self, name):\n",
    "        if name == 'entries':\n",
    "            pass\n",
    "        elif name == 'entry':\n",
    "            if not self._current_entry:\n",
    "                raise ValueError()\n",
    "            self.text_entries.append(self._current_entry)\n",
    "            self._current_entry = None\n",
    "        elif name == 'name':\n",
    "            self._char_handler = None\n",
    "        elif name == 'lemma':\n",
    "            self._char_handler = None\n",
    "        elif name == 'main_word':\n",
    "            self._char_handler = None\n",
    "        elif name == 'synt_type':\n",
    "            self._char_handler = None\n",
    "        elif name == 'pos_string':\n",
    "            self._char_handler = None\n",
    "        else:\n",
    "            raise ValueError(\"Unknown element %s\" % name)\n",
    "    "
   ]
  },
  {
   "cell_type": "code",
   "execution_count": 16,
   "metadata": {},
   "outputs": [],
   "source": [
    "class SynonymsHandler(ContentHandler):\n",
    "    def __init__(self, concept_idx, te_idx):\n",
    "        self.concept_idx = concept_idx\n",
    "        self.te_idx = te_idx\n",
    "    \n",
    "    def startDocument(self):\n",
    "        self._counter = 0\n",
    "        self._missed_concepts = set()\n",
    "    \n",
    "    def endDocument(self):\n",
    "        print(\"Parsed %s relations\" % self._counter)\n",
    "        print(\"Missed %s concepts\" % len(self._missed_concepts))\n",
    "        \n",
    "    def startElement(self, name, attrs):\n",
    "        if name == 'synonyms':\n",
    "            pass\n",
    "        elif name == 'entry_rel':\n",
    "            concept_id = int(attrs['concept_id'])\n",
    "            concept = self.concept_idx.get(concept_id)\n",
    "            if not concept:\n",
    "                self._missed_concepts.add(concept_id)\n",
    "                return\n",
    "            te_id = int(attrs['entry_id'])\n",
    "            te = self.te_idx.get(te_id)\n",
    "            if not te:\n",
    "                print(\"WARN: no text entry with id \", te_id)\n",
    "                return\n",
    "            concept.texts.add(te_id)\n",
    "            te.concepts.add(concept_id)\n",
    "            self._counter += 1\n",
    "        else:\n",
    "            raise ValueError(\"Unknown element %s\" % name)"
   ]
  },
  {
   "cell_type": "code",
   "execution_count": 57,
   "metadata": {},
   "outputs": [
    {
     "name": "stdout",
     "output_type": "stream",
     "text": [
      "Parsed 26354 concepts\n"
     ]
    },
    {
     "data": {
      "text/plain": [
       "26354"
      ]
     },
     "execution_count": 57,
     "metadata": {},
     "output_type": "execute_result"
    }
   ],
   "source": [
    "concepts_handler = ConceptsHandler()\n",
    "with open(os.path.join(input_dir, 'concepts.xml'), mode='rb') as inp:\n",
    "    parse(inp, concepts_handler)\n",
    "concept_idx = {\n",
    "    c.id : c\n",
    "    for c in concepts_handler.concepts if c.domain in include_domains\n",
    "}\n",
    "del concepts_handler\n",
    "len(concept_idx)"
   ]
  },
  {
   "cell_type": "code",
   "execution_count": 58,
   "metadata": {},
   "outputs": [
    {
     "name": "stdout",
     "output_type": "stream",
     "text": [
      "Parsed 107949 relations\n",
      "Missed 39 concepts\n"
     ]
    }
   ],
   "source": [
    "relations_handler = RelationsHandler(concept_idx)\n",
    "with open(os.path.join(input_dir, 'relations.xml'), mode='rb') as inp:\n",
    "    parse(inp, relations_handler)\n",
    "del relations_handler"
   ]
  },
  {
   "cell_type": "code",
   "execution_count": 59,
   "metadata": {},
   "outputs": [
    {
     "name": "stdout",
     "output_type": "stream",
     "text": [
      "Parsed 96700 text entries\n"
     ]
    }
   ],
   "source": [
    "te_handler = TextEntriesHandler()\n",
    "with open(os.path.join(input_dir, 'text_entry.xml'), mode='rb') as inp:\n",
    "    parse(inp, te_handler)\n",
    "te_idx = {\n",
    "    te.id : te\n",
    "    for te in te_handler.text_entries\n",
    "}\n",
    "del te_handler"
   ]
  },
  {
   "cell_type": "code",
   "execution_count": 60,
   "metadata": {},
   "outputs": [
    {
     "name": "stdout",
     "output_type": "stream",
     "text": [
      "Parsed 115091 relations\n",
      "Missed 9 concepts\n"
     ]
    }
   ],
   "source": [
    "syn_handler = SynonymsHandler(concept_idx, te_idx)\n",
    "with open(os.path.join(input_dir, 'synonyms.xml'), mode='rb') as inp:\n",
    "    parse(inp, syn_handler)\n",
    "del syn_handler"
   ]
  },
  {
   "cell_type": "code",
   "execution_count": 61,
   "metadata": {},
   "outputs": [
    {
     "name": "stdout",
     "output_type": "stream",
     "text": [
      "There are 13 orphan text entries\n"
     ]
    },
    {
     "data": {
      "text/plain": [
       "96687"
      ]
     },
     "execution_count": 61,
     "metadata": {},
     "output_type": "execute_result"
    }
   ],
   "source": [
    "orphan_te_ids = set(te.id for te in te_idx.values() if not te.concepts)\n",
    "print(\"There are %s orphan text entries\" % len(orphan_te_ids))\n",
    "te_idx = {\n",
    "    te_id : te\n",
    "    for te_id, te in te_idx.items()\n",
    "    if te_id not in orphan_te_ids\n",
    "}\n",
    "len(te_idx)"
   ]
  },
  {
   "cell_type": "code",
   "execution_count": 62,
   "metadata": {},
   "outputs": [],
   "source": [
    "text_idx = {\n",
    "    te.name : te\n",
    "    for te in te_idx.values()\n",
    "}"
   ]
  },
  {
   "cell_type": "code",
   "execution_count": 71,
   "metadata": {},
   "outputs": [],
   "source": [
    "def get_related(arg, rel_name, hint=None):\n",
    "    if isinstance(arg, int):\n",
    "        concept = concept_idx.get(arg)\n",
    "        if not concept:\n",
    "            raise ValueError(\"Can't find concept by id: %s\" % arg)\n",
    "    elif isinstance(arg, str):\n",
    "        arg = arg.upper()\n",
    "        te = text_idx.get(arg)\n",
    "        if not te:\n",
    "            raise ValueError(\"Can't find text entry by handle: %s\" % arg)\n",
    "        if len(te.concepts) == 1:\n",
    "            hint = 0\n",
    "        elif hint is None:\n",
    "            err_msg = \"There are several concepts:\\n\"\n",
    "            for c_id in te.concepts:\n",
    "                err_msg += concept_idx[c_id].name\n",
    "                err_msg += '\\n'\n",
    "            err_msg += \"Please specify which one as a hint.\"\n",
    "            raise ValueError(err_msg)\n",
    "        concept = concept_idx[list(te.concepts)[hint]]\n",
    "    else:\n",
    "        raise ValueError(\"Unknown arg type\")\n",
    "    \n",
    "    def _rec_related(concept):\n",
    "        hyp_concepts = [concept_idx[hyp_id] for hyp_id in concept.relations[rel_name]]\n",
    "        for c in hyp_concepts:\n",
    "            yield c\n",
    "        for c in hyp_concepts:\n",
    "            yield from _rec_related(c)\n",
    "            \n",
    "    return [concept] + list(_rec_related(concept))\n",
    "    \n",
    "def get_hyponyms(arg, hint=None):\n",
    "    return get_related(arg, 'НИЖЕ', hint)\n",
    "\n",
    "def get_hypernyms(arg, hint=None):\n",
    "    return get_related(arg, 'ВЫШЕ', hint)"
   ]
  },
  {
   "cell_type": "code",
   "execution_count": 66,
   "metadata": {},
   "outputs": [],
   "source": [
    "def print_related(arg, rel_name, hint=None):\n",
    "    for c in get_related(arg, rel_name, hint):\n",
    "        print(c.id, c.name, sep='\\t')\n",
    "        for te_id in c.texts:\n",
    "            te = te_idx[te_id]\n",
    "            print('', te.name, sep='\\t')"
   ]
  },
  {
   "cell_type": "code",
   "execution_count": 72,
   "metadata": {},
   "outputs": [
    {
     "name": "stdout",
     "output_type": "stream",
     "text": [
      "118667\tУДОВЛЕТВОРИТЬСЯ\n",
      "\tДОВОЛЬСТВОВАТЬСЯ\n",
      "\tВДОВОЛЬ\n",
      "\tВДОСТАЛЬ\n",
      "\tУДОВЛЕТВОРЕНИЕ\n",
      "\tУДОВЛЕТВОРИТЬСЯ\n",
      "\tУДОВЛЕТВОРЯТЬСЯ\n",
      "\tУДОВОЛЬСТВОВАТЬСЯ\n",
      "\tПОЛУЧИТЬ УДОВЛЕТВОРЕНИЕ\n",
      "\tПОЛУЧАТЬ УДОВЛЕТВОРЕНИЕ\n",
      "118668\tОГРАНИЧИТЬСЯ (УДОВЛЕТВОРИТЬСЯ НЕМНОГИМ)\n",
      "\tОГРАНИЧИВАТЬСЯ\n",
      "\tСАМООГРАНИЧИВАТЬСЯ\n",
      "\tОГРАНИЧИТЬСЯ\n",
      "\tПРОБАВЛЯТЬСЯ\n",
      "149907\tЛЬСТИТЬ ЧУВСТВУ\n",
      "\tЛЬСТИТЬ ЧУВСТВУ\n",
      "\tЛЕСТНЫЙ\n",
      "\tЛЬСТИТЬ\n",
      "\tПОЛЬСТИТЬ\n",
      "117014\tНАЕСТЬСЯ, НАСЫТИТЬСЯ\n",
      "\tНАКУШАТЬСЯ\n",
      "\tНАБИТЬ ЖИВОТ\n",
      "\tНАСЫТИТЬСЯ ЕДОЙ\n",
      "\tНАБИТЬ ЖЕЛУДОК\n",
      "\tНАЕДАТЬСЯ\n",
      "\tДОСЫТА\n",
      "\tНАЕСТЬСЯ ДОСЫТА\n",
      "\tНАЕСТЬСЯ ДО ОТВАЛА\n",
      "\tНАБИТЬ ПУЗО\n",
      "\tНАЕСТЬСЯ\n",
      "\tНАЖРАТЬСЯ\n",
      "\tНАСЫЩЕНИЕ\n",
      "\tНАСЫТИТЬСЯ\n",
      "\tНАСЫЩАТЬСЯ\n",
      "\tНАБИТЬ БРЮХО\n",
      "115578\tНАПИТЬСЯ (ВЫПИТЬ В БОЛЬШОМ КОЛИЧЕСТВЕ)\n",
      "\tНАПИТЬСЯ\n",
      "\tНАПИВАТЬСЯ\n",
      "138332\tОБОЙТИСЬ (УДОВЛЕТВОРИТЬСЯ ИМЕЮЩИМСЯ)\n",
      "\tОБОЙТИСЬ\n",
      "\tОБХОДИТЬСЯ\n"
     ]
    }
   ],
   "source": [
    "print_related(118667, 'НИЖЕ', 0)"
   ]
  },
  {
   "cell_type": "code",
   "execution_count": null,
   "metadata": {},
   "outputs": [],
   "source": []
  }
 ],
 "metadata": {
  "kernelspec": {
   "display_name": "conda_python3",
   "language": "python",
   "name": "conda_python3"
  },
  "language_info": {
   "codemirror_mode": {
    "name": "ipython",
    "version": 3
   },
   "file_extension": ".py",
   "mimetype": "text/x-python",
   "name": "python",
   "nbconvert_exporter": "python",
   "pygments_lexer": "ipython3",
   "version": "3.6.5"
  }
 },
 "nbformat": 4,
 "nbformat_minor": 2
}
